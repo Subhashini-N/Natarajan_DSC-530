{
 "cells": [
  {
   "cell_type": "code",
   "execution_count": 1,
   "metadata": {},
   "outputs": [
    {
     "data": {
      "text/plain": [
       "'/Users/manikantanvenkataraman/Desktop/Python/pythonProject_2.1'"
      ]
     },
     "execution_count": 1,
     "metadata": {},
     "output_type": "execute_result"
    }
   ],
   "source": [
    "import os\n",
    "os.chdir('/Users/manikantanvenkataraman/Desktop/Python/pythonProject_2.1/')\n",
    "os.getcwd()"
   ]
  },
  {
   "cell_type": "code",
   "execution_count": 3,
   "metadata": {},
   "outputs": [
    {
     "data": {
      "text/html": [
       "<div>\n",
       "<style scoped>\n",
       "    .dataframe tbody tr th:only-of-type {\n",
       "        vertical-align: middle;\n",
       "    }\n",
       "\n",
       "    .dataframe tbody tr th {\n",
       "        vertical-align: top;\n",
       "    }\n",
       "\n",
       "    .dataframe thead th {\n",
       "        text-align: right;\n",
       "    }\n",
       "</style>\n",
       "<table border=\"1\" class=\"dataframe\">\n",
       "  <thead>\n",
       "    <tr style=\"text-align: right;\">\n",
       "      <th></th>\n",
       "      <th>Timestamp</th>\n",
       "      <th>Age</th>\n",
       "      <th>Gender</th>\n",
       "      <th>City</th>\n",
       "      <th>Position</th>\n",
       "      <th>Exp_Yrs</th>\n",
       "      <th>Role</th>\n",
       "      <th>Exp_Yrs_Germany</th>\n",
       "      <th>Exp_Range</th>\n",
       "      <th>Seniority level</th>\n",
       "      <th>...</th>\n",
       "      <th>Prior_Bonus</th>\n",
       "      <th>Vacation</th>\n",
       "      <th>Emp_Status</th>\n",
       "      <th>Contract_Duration</th>\n",
       "      <th>Language</th>\n",
       "      <th>Company_Size</th>\n",
       "      <th>Company_Type</th>\n",
       "      <th>Covid_Jobloss</th>\n",
       "      <th>Forced_shortweek</th>\n",
       "      <th>WFH_Support</th>\n",
       "    </tr>\n",
       "  </thead>\n",
       "  <tbody>\n",
       "    <tr>\n",
       "      <td>0</td>\n",
       "      <td>24/11/2020 11:14:15</td>\n",
       "      <td>26.0</td>\n",
       "      <td>Male</td>\n",
       "      <td>Munich</td>\n",
       "      <td>Software Engineer</td>\n",
       "      <td>5</td>\n",
       "      <td>Developer</td>\n",
       "      <td>3</td>\n",
       "      <td>0-5</td>\n",
       "      <td>Senior</td>\n",
       "      <td>...</td>\n",
       "      <td>10000</td>\n",
       "      <td>30</td>\n",
       "      <td>Full-time employee</td>\n",
       "      <td>Unlimited contract</td>\n",
       "      <td>English</td>\n",
       "      <td>51-100</td>\n",
       "      <td>Product</td>\n",
       "      <td>No</td>\n",
       "      <td>NaN</td>\n",
       "      <td>NaN</td>\n",
       "    </tr>\n",
       "    <tr>\n",
       "      <td>1</td>\n",
       "      <td>24/11/2020 11:14:16</td>\n",
       "      <td>26.0</td>\n",
       "      <td>Male</td>\n",
       "      <td>Berlin</td>\n",
       "      <td>Backend Developer</td>\n",
       "      <td>7</td>\n",
       "      <td>Developer</td>\n",
       "      <td>4</td>\n",
       "      <td>0-5</td>\n",
       "      <td>Senior</td>\n",
       "      <td>...</td>\n",
       "      <td>5000</td>\n",
       "      <td>28</td>\n",
       "      <td>Full-time employee</td>\n",
       "      <td>Unlimited contract</td>\n",
       "      <td>English</td>\n",
       "      <td>101-1000</td>\n",
       "      <td>Product</td>\n",
       "      <td>No</td>\n",
       "      <td>NaN</td>\n",
       "      <td>NaN</td>\n",
       "    </tr>\n",
       "    <tr>\n",
       "      <td>2</td>\n",
       "      <td>24/11/2020 11:14:21</td>\n",
       "      <td>29.0</td>\n",
       "      <td>Male</td>\n",
       "      <td>Berlin</td>\n",
       "      <td>Software Engineer</td>\n",
       "      <td>12</td>\n",
       "      <td>Developer</td>\n",
       "      <td>6</td>\n",
       "      <td>6-10</td>\n",
       "      <td>Lead</td>\n",
       "      <td>...</td>\n",
       "      <td>100000</td>\n",
       "      <td>30</td>\n",
       "      <td>Self-employed (freelancer)</td>\n",
       "      <td>Temporary contract</td>\n",
       "      <td>English</td>\n",
       "      <td>101-1000</td>\n",
       "      <td>Product</td>\n",
       "      <td>Yes</td>\n",
       "      <td>NaN</td>\n",
       "      <td>NaN</td>\n",
       "    </tr>\n",
       "    <tr>\n",
       "      <td>3</td>\n",
       "      <td>24/11/2020 11:15:24</td>\n",
       "      <td>28.0</td>\n",
       "      <td>Male</td>\n",
       "      <td>Berlin</td>\n",
       "      <td>Frontend Developer</td>\n",
       "      <td>4</td>\n",
       "      <td>Developer</td>\n",
       "      <td>1</td>\n",
       "      <td>0-5</td>\n",
       "      <td>Junior</td>\n",
       "      <td>...</td>\n",
       "      <td>NaN</td>\n",
       "      <td>24</td>\n",
       "      <td>Full-time employee</td>\n",
       "      <td>Unlimited contract</td>\n",
       "      <td>English</td>\n",
       "      <td>51-100</td>\n",
       "      <td>Startup</td>\n",
       "      <td>No</td>\n",
       "      <td>NaN</td>\n",
       "      <td>NaN</td>\n",
       "    </tr>\n",
       "    <tr>\n",
       "      <td>4</td>\n",
       "      <td>24/11/2020 11:15:46</td>\n",
       "      <td>37.0</td>\n",
       "      <td>Male</td>\n",
       "      <td>Berlin</td>\n",
       "      <td>Backend Developer</td>\n",
       "      <td>17</td>\n",
       "      <td>Developer</td>\n",
       "      <td>6</td>\n",
       "      <td>6-10</td>\n",
       "      <td>Senior</td>\n",
       "      <td>...</td>\n",
       "      <td>NaN</td>\n",
       "      <td>29</td>\n",
       "      <td>Full-time employee</td>\n",
       "      <td>Unlimited contract</td>\n",
       "      <td>English</td>\n",
       "      <td>101-1000</td>\n",
       "      <td>Product</td>\n",
       "      <td>No</td>\n",
       "      <td>NaN</td>\n",
       "      <td>NaN</td>\n",
       "    </tr>\n",
       "  </tbody>\n",
       "</table>\n",
       "<p>5 rows × 25 columns</p>\n",
       "</div>"
      ],
      "text/plain": [
       "             Timestamp   Age Gender    City           Position  Exp_Yrs  \\\n",
       "0  24/11/2020 11:14:15  26.0   Male  Munich   Software Engineer       5   \n",
       "1  24/11/2020 11:14:16  26.0   Male  Berlin   Backend Developer       7   \n",
       "2  24/11/2020 11:14:21  29.0   Male  Berlin   Software Engineer      12   \n",
       "3  24/11/2020 11:15:24  28.0   Male  Berlin  Frontend Developer       4   \n",
       "4  24/11/2020 11:15:46  37.0   Male  Berlin   Backend Developer      17   \n",
       "\n",
       "        Role Exp_Yrs_Germany Exp_Range Seniority level  ... Prior_Bonus  \\\n",
       "0  Developer               3       0-5          Senior  ...       10000   \n",
       "1  Developer               4       0-5          Senior  ...        5000   \n",
       "2  Developer               6      6-10            Lead  ...      100000   \n",
       "3  Developer               1       0-5          Junior  ...         NaN   \n",
       "4  Developer               6      6-10          Senior  ...         NaN   \n",
       "\n",
       "  Vacation                  Emp_Status   Contract_Duration  Language  \\\n",
       "0       30          Full-time employee  Unlimited contract   English   \n",
       "1       28          Full-time employee  Unlimited contract   English   \n",
       "2       30  Self-employed (freelancer)  Temporary contract   English   \n",
       "3       24          Full-time employee  Unlimited contract   English   \n",
       "4       29          Full-time employee  Unlimited contract   English   \n",
       "\n",
       "  Company_Size Company_Type Covid_Jobloss Forced_shortweek WFH_Support  \n",
       "0       51-100      Product            No              NaN         NaN  \n",
       "1     101-1000      Product            No              NaN         NaN  \n",
       "2     101-1000      Product           Yes              NaN         NaN  \n",
       "3       51-100      Startup            No              NaN         NaN  \n",
       "4     101-1000      Product            No              NaN         NaN  \n",
       "\n",
       "[5 rows x 25 columns]"
      ]
     },
     "execution_count": 3,
     "metadata": {},
     "output_type": "execute_result"
    }
   ],
   "source": [
    "##Data Ingestion - 2020 salary\n",
    "\n",
    "import pandas as pd\n",
    "sal_2020 = pd.read_excel(\"IT_Sal_2020.xlsx\")\n",
    "sal_2020.head()"
   ]
  },
  {
   "cell_type": "code",
   "execution_count": 4,
   "metadata": {},
   "outputs": [
    {
     "data": {
      "text/html": [
       "<div>\n",
       "<style scoped>\n",
       "    .dataframe tbody tr th:only-of-type {\n",
       "        vertical-align: middle;\n",
       "    }\n",
       "\n",
       "    .dataframe tbody tr th {\n",
       "        vertical-align: top;\n",
       "    }\n",
       "\n",
       "    .dataframe thead th {\n",
       "        text-align: right;\n",
       "    }\n",
       "</style>\n",
       "<table border=\"1\" class=\"dataframe\">\n",
       "  <thead>\n",
       "    <tr style=\"text-align: right;\">\n",
       "      <th></th>\n",
       "      <th>Timestamp</th>\n",
       "      <th>Age</th>\n",
       "      <th>Gender</th>\n",
       "      <th>City</th>\n",
       "      <th>Seniority level</th>\n",
       "      <th>Position</th>\n",
       "      <th>Role</th>\n",
       "      <th>Exp_Yrs</th>\n",
       "      <th>Exp_Range</th>\n",
       "      <th>Primary_Tech</th>\n",
       "      <th>...</th>\n",
       "      <th>Prior_Stocks</th>\n",
       "      <th>Vacation_Days</th>\n",
       "      <th>WFH_Days</th>\n",
       "      <th>Language</th>\n",
       "      <th>Company_Nm</th>\n",
       "      <th>Company_Size</th>\n",
       "      <th>Company_Type</th>\n",
       "      <th>Contract_Duration</th>\n",
       "      <th>Company_Bus_Sector</th>\n",
       "      <th>0</th>\n",
       "    </tr>\n",
       "  </thead>\n",
       "  <tbody>\n",
       "    <tr>\n",
       "      <td>0</td>\n",
       "      <td>02.12.2019 11:18:26</td>\n",
       "      <td>33.0</td>\n",
       "      <td>Male</td>\n",
       "      <td>Berlin</td>\n",
       "      <td>Senior</td>\n",
       "      <td>Fullstack Developer</td>\n",
       "      <td>Developer</td>\n",
       "      <td>13</td>\n",
       "      <td>11-15</td>\n",
       "      <td>PHP</td>\n",
       "      <td>...</td>\n",
       "      <td>NaN</td>\n",
       "      <td>29.0</td>\n",
       "      <td>4.0</td>\n",
       "      <td>English</td>\n",
       "      <td>NaN</td>\n",
       "      <td>50-100</td>\n",
       "      <td>Startup</td>\n",
       "      <td>unlimited</td>\n",
       "      <td>Tourism</td>\n",
       "      <td>NaN</td>\n",
       "    </tr>\n",
       "    <tr>\n",
       "      <td>1</td>\n",
       "      <td>02.12.2019 11:18:35</td>\n",
       "      <td>29.0</td>\n",
       "      <td>Male</td>\n",
       "      <td>Berlin</td>\n",
       "      <td>Middle</td>\n",
       "      <td>Backend Developer</td>\n",
       "      <td>Developer</td>\n",
       "      <td>3</td>\n",
       "      <td>1-5</td>\n",
       "      <td>Python</td>\n",
       "      <td>...</td>\n",
       "      <td>NaN</td>\n",
       "      <td>22.0</td>\n",
       "      <td>4.0</td>\n",
       "      <td>English</td>\n",
       "      <td>NaN</td>\n",
       "      <td>1950-10-01 00:00:00</td>\n",
       "      <td>Product</td>\n",
       "      <td>unlimited</td>\n",
       "      <td>Scientific Activities</td>\n",
       "      <td>NaN</td>\n",
       "    </tr>\n",
       "    <tr>\n",
       "      <td>2</td>\n",
       "      <td>02.12.2019 11:18:56</td>\n",
       "      <td>NaN</td>\n",
       "      <td>Male</td>\n",
       "      <td>Berlin</td>\n",
       "      <td>Middle</td>\n",
       "      <td>Mobile Developer</td>\n",
       "      <td>Developer</td>\n",
       "      <td>4</td>\n",
       "      <td>1-5</td>\n",
       "      <td>Kotlin</td>\n",
       "      <td>...</td>\n",
       "      <td>NaN</td>\n",
       "      <td>27.0</td>\n",
       "      <td>NaN</td>\n",
       "      <td>English</td>\n",
       "      <td>NaN</td>\n",
       "      <td>1000</td>\n",
       "      <td>Startup</td>\n",
       "      <td>unlimited</td>\n",
       "      <td>NaN</td>\n",
       "      <td>NaN</td>\n",
       "    </tr>\n",
       "    <tr>\n",
       "      <td>3</td>\n",
       "      <td>02.12.2019 11:19:08</td>\n",
       "      <td>30.0</td>\n",
       "      <td>Male</td>\n",
       "      <td>Berlin</td>\n",
       "      <td>Senior</td>\n",
       "      <td>Backend Developer</td>\n",
       "      <td>Developer</td>\n",
       "      <td>6</td>\n",
       "      <td>6-10</td>\n",
       "      <td>PHP</td>\n",
       "      <td>...</td>\n",
       "      <td>NaN</td>\n",
       "      <td>24.0</td>\n",
       "      <td>NaN</td>\n",
       "      <td>English</td>\n",
       "      <td>Auto1</td>\n",
       "      <td>100-1000</td>\n",
       "      <td>Product</td>\n",
       "      <td>unlimited</td>\n",
       "      <td>Transport</td>\n",
       "      <td>NaN</td>\n",
       "    </tr>\n",
       "    <tr>\n",
       "      <td>4</td>\n",
       "      <td>02.12.2019 11:19:37</td>\n",
       "      <td>32.0</td>\n",
       "      <td>Male</td>\n",
       "      <td>Berlin</td>\n",
       "      <td>Senior</td>\n",
       "      <td>Embedded Developer</td>\n",
       "      <td>Developer</td>\n",
       "      <td>10</td>\n",
       "      <td>6-10</td>\n",
       "      <td>C/C++</td>\n",
       "      <td>...</td>\n",
       "      <td>NaN</td>\n",
       "      <td>30.0</td>\n",
       "      <td>0.0</td>\n",
       "      <td>English</td>\n",
       "      <td>Luxoft</td>\n",
       "      <td>50-100</td>\n",
       "      <td>Product</td>\n",
       "      <td>unlimited</td>\n",
       "      <td>Automotive</td>\n",
       "      <td>NaN</td>\n",
       "    </tr>\n",
       "  </tbody>\n",
       "</table>\n",
       "<p>5 rows × 25 columns</p>\n",
       "</div>"
      ],
      "text/plain": [
       "             Timestamp   Age Gender    City Seniority level  \\\n",
       "0  02.12.2019 11:18:26  33.0   Male  Berlin          Senior   \n",
       "1  02.12.2019 11:18:35  29.0   Male  Berlin          Middle   \n",
       "2  02.12.2019 11:18:56   NaN   Male  Berlin          Middle   \n",
       "3  02.12.2019 11:19:08  30.0   Male  Berlin          Senior   \n",
       "4  02.12.2019 11:19:37  32.0   Male  Berlin          Senior   \n",
       "\n",
       "              Position       Role  Exp_Yrs Exp_Range Primary_Tech  ...  \\\n",
       "0  Fullstack Developer  Developer       13     11-15          PHP  ...   \n",
       "1    Backend Developer  Developer        3       1-5       Python  ...   \n",
       "2     Mobile Developer  Developer        4       1-5       Kotlin  ...   \n",
       "3    Backend Developer  Developer        6      6-10          PHP  ...   \n",
       "4   Embedded Developer  Developer       10      6-10        C/C++  ...   \n",
       "\n",
       "   Prior_Stocks  Vacation_Days  WFH_Days  Language  Company_Nm  \\\n",
       "0           NaN           29.0       4.0   English         NaN   \n",
       "1           NaN           22.0       4.0   English         NaN   \n",
       "2           NaN           27.0       NaN   English         NaN   \n",
       "3           NaN           24.0       NaN   English       Auto1   \n",
       "4           NaN           30.0       0.0   English      Luxoft   \n",
       "\n",
       "          Company_Size  Company_Type  Contract_Duration  \\\n",
       "0               50-100       Startup          unlimited   \n",
       "1  1950-10-01 00:00:00       Product          unlimited   \n",
       "2                 1000       Startup          unlimited   \n",
       "3             100-1000       Product          unlimited   \n",
       "4               50-100       Product          unlimited   \n",
       "\n",
       "      Company_Bus_Sector   0  \n",
       "0                Tourism NaN  \n",
       "1  Scientific Activities NaN  \n",
       "2                    NaN NaN  \n",
       "3              Transport NaN  \n",
       "4             Automotive NaN  \n",
       "\n",
       "[5 rows x 25 columns]"
      ]
     },
     "execution_count": 4,
     "metadata": {},
     "output_type": "execute_result"
    }
   ],
   "source": [
    "##Data Ingestion - 2019 salary\n",
    "sal_2019 = pd.read_excel(\"IT_Sal_2019.xlsx\")\n",
    "sal_2019.head()"
   ]
  },
  {
   "cell_type": "code",
   "execution_count": 5,
   "metadata": {},
   "outputs": [
    {
     "data": {
      "text/html": [
       "<div>\n",
       "<style scoped>\n",
       "    .dataframe tbody tr th:only-of-type {\n",
       "        vertical-align: middle;\n",
       "    }\n",
       "\n",
       "    .dataframe tbody tr th {\n",
       "        vertical-align: top;\n",
       "    }\n",
       "\n",
       "    .dataframe thead th {\n",
       "        text-align: right;\n",
       "    }\n",
       "</style>\n",
       "<table border=\"1\" class=\"dataframe\">\n",
       "  <thead>\n",
       "    <tr style=\"text-align: right;\">\n",
       "      <th></th>\n",
       "      <th>Timestamp</th>\n",
       "      <th>Age</th>\n",
       "      <th>Gender</th>\n",
       "      <th>City</th>\n",
       "      <th>Position</th>\n",
       "      <th>Role</th>\n",
       "      <th>Exp_Yrs</th>\n",
       "      <th>Exp_Range</th>\n",
       "      <th>Exp_Level</th>\n",
       "      <th>Annual_Salary</th>\n",
       "      <th>Prior_Salary</th>\n",
       "      <th>Prior_Salary2</th>\n",
       "      <th>Stock</th>\n",
       "      <th>Language</th>\n",
       "      <th>Company_Size</th>\n",
       "      <th>Company_Type</th>\n",
       "    </tr>\n",
       "  </thead>\n",
       "  <tbody>\n",
       "    <tr>\n",
       "      <td>0</td>\n",
       "      <td>14/12/2018 12:41:33</td>\n",
       "      <td>43.0</td>\n",
       "      <td>M</td>\n",
       "      <td>München</td>\n",
       "      <td>QA Ingenieur</td>\n",
       "      <td>QA</td>\n",
       "      <td>11.0</td>\n",
       "      <td>11-15</td>\n",
       "      <td>Senior</td>\n",
       "      <td>77000.0</td>\n",
       "      <td>76200.0</td>\n",
       "      <td>68000.0</td>\n",
       "      <td>No</td>\n",
       "      <td>Deutsch</td>\n",
       "      <td>100-1000</td>\n",
       "      <td>Product</td>\n",
       "    </tr>\n",
       "    <tr>\n",
       "      <td>1</td>\n",
       "      <td>14/12/2018 12:42:09</td>\n",
       "      <td>33.0</td>\n",
       "      <td>F</td>\n",
       "      <td>München</td>\n",
       "      <td>Senior PHP Magento developer</td>\n",
       "      <td>Developer</td>\n",
       "      <td>8.0</td>\n",
       "      <td>6-10</td>\n",
       "      <td>Senior</td>\n",
       "      <td>65000.0</td>\n",
       "      <td>55000.0</td>\n",
       "      <td>55000.0</td>\n",
       "      <td>No</td>\n",
       "      <td>Deutsch</td>\n",
       "      <td>50-100</td>\n",
       "      <td>Product</td>\n",
       "    </tr>\n",
       "    <tr>\n",
       "      <td>2</td>\n",
       "      <td>14/12/2018 12:47:36</td>\n",
       "      <td>32.0</td>\n",
       "      <td>M</td>\n",
       "      <td>München</td>\n",
       "      <td>Software Engineer</td>\n",
       "      <td>Developer</td>\n",
       "      <td>10.0</td>\n",
       "      <td>6-10</td>\n",
       "      <td>Senior</td>\n",
       "      <td>88000.0</td>\n",
       "      <td>73000.0</td>\n",
       "      <td>54000.0</td>\n",
       "      <td>No</td>\n",
       "      <td>Deutsch</td>\n",
       "      <td>1000</td>\n",
       "      <td>Product</td>\n",
       "    </tr>\n",
       "    <tr>\n",
       "      <td>3</td>\n",
       "      <td>14/12/2018 12:50:15</td>\n",
       "      <td>25.0</td>\n",
       "      <td>M</td>\n",
       "      <td>München</td>\n",
       "      <td>Senior Frontend Developer</td>\n",
       "      <td>Developer</td>\n",
       "      <td>6.0</td>\n",
       "      <td>6-10</td>\n",
       "      <td>Senior</td>\n",
       "      <td>78000.0</td>\n",
       "      <td>55000.0</td>\n",
       "      <td>45000.0</td>\n",
       "      <td>Yes</td>\n",
       "      <td>English</td>\n",
       "      <td>1000</td>\n",
       "      <td>Product</td>\n",
       "    </tr>\n",
       "    <tr>\n",
       "      <td>4</td>\n",
       "      <td>14/12/2018 12:50:31</td>\n",
       "      <td>39.0</td>\n",
       "      <td>M</td>\n",
       "      <td>München</td>\n",
       "      <td>UX Designer</td>\n",
       "      <td>Developer</td>\n",
       "      <td>10.0</td>\n",
       "      <td>6-10</td>\n",
       "      <td>Senior</td>\n",
       "      <td>69000.0</td>\n",
       "      <td>60000.0</td>\n",
       "      <td>52000.0</td>\n",
       "      <td>No</td>\n",
       "      <td>English</td>\n",
       "      <td>100-1000</td>\n",
       "      <td>Ecom retailer</td>\n",
       "    </tr>\n",
       "  </tbody>\n",
       "</table>\n",
       "</div>"
      ],
      "text/plain": [
       "             Timestamp   Age Gender     City                       Position  \\\n",
       "0  14/12/2018 12:41:33  43.0      M  München                   QA Ingenieur   \n",
       "1  14/12/2018 12:42:09  33.0      F  München  Senior PHP Magento developer    \n",
       "2  14/12/2018 12:47:36  32.0      M  München              Software Engineer   \n",
       "3  14/12/2018 12:50:15  25.0      M  München      Senior Frontend Developer   \n",
       "4  14/12/2018 12:50:31  39.0      M  München                    UX Designer   \n",
       "\n",
       "        Role  Exp_Yrs Exp_Range Exp_Level  Annual_Salary  Prior_Salary  \\\n",
       "0         QA     11.0     11-15    Senior        77000.0       76200.0   \n",
       "1  Developer      8.0      6-10    Senior        65000.0       55000.0   \n",
       "2  Developer     10.0      6-10    Senior        88000.0       73000.0   \n",
       "3  Developer      6.0      6-10    Senior        78000.0       55000.0   \n",
       "4  Developer     10.0      6-10    Senior        69000.0       60000.0   \n",
       "\n",
       "   Prior_Salary2 Stock Language Company_Size   Company_Type  \n",
       "0        68000.0    No  Deutsch     100-1000        Product  \n",
       "1        55000.0    No  Deutsch       50-100        Product  \n",
       "2        54000.0    No  Deutsch         1000        Product  \n",
       "3        45000.0   Yes  English         1000        Product  \n",
       "4        52000.0    No  English     100-1000  Ecom retailer  "
      ]
     },
     "execution_count": 5,
     "metadata": {},
     "output_type": "execute_result"
    }
   ],
   "source": [
    "##Data Ingestion - 2018 salary\n",
    "sal_2018 = pd.read_excel(\"IT_Sal_2018.xlsx\")\n",
    "sal_2018.head()"
   ]
  },
  {
   "cell_type": "code",
   "execution_count": 6,
   "metadata": {},
   "outputs": [
    {
     "data": {
      "text/plain": [
       "array(['Male', 'Female', nan, 'Diverse'], dtype=object)"
      ]
     },
     "execution_count": 6,
     "metadata": {},
     "output_type": "execute_result"
    }
   ],
   "source": [
    "#Data profiling\n",
    "sal_2020.Gender.unique()\n"
   ]
  },
  {
   "cell_type": "code",
   "execution_count": 7,
   "metadata": {},
   "outputs": [
    {
     "data": {
      "text/plain": [
       "array(['Male', 'Female'], dtype=object)"
      ]
     },
     "execution_count": 7,
     "metadata": {},
     "output_type": "execute_result"
    }
   ],
   "source": [
    "#Data profiling\n",
    "sal_2019.Gender.unique()"
   ]
  },
  {
   "cell_type": "code",
   "execution_count": 8,
   "metadata": {},
   "outputs": [
    {
     "data": {
      "text/plain": [
       "array(['M', 'F', nan], dtype=object)"
      ]
     },
     "execution_count": 8,
     "metadata": {},
     "output_type": "execute_result"
    }
   ],
   "source": [
    "#Data profiling\n",
    "sal_2018.Gender.unique()"
   ]
  },
  {
   "cell_type": "code",
   "execution_count": 9,
   "metadata": {},
   "outputs": [
    {
     "data": {
      "text/plain": [
       "array(['Developer', 'Manager', 'QA', 'Analyst', nan], dtype=object)"
      ]
     },
     "execution_count": 9,
     "metadata": {},
     "output_type": "execute_result"
    }
   ],
   "source": [
    "#Data profiling\n",
    "sal_2020.Role.unique()"
   ]
  },
  {
   "cell_type": "code",
   "execution_count": 10,
   "metadata": {},
   "outputs": [
    {
     "data": {
      "text/plain": [
       "array(['Developer', 'Manager', 'QA', 'Analyst', 'Managaer', nan],\n",
       "      dtype=object)"
      ]
     },
     "execution_count": 10,
     "metadata": {},
     "output_type": "execute_result"
    }
   ],
   "source": [
    "#Data profiling\n",
    "sal_2019.Role.unique()"
   ]
  },
  {
   "cell_type": "code",
   "execution_count": 11,
   "metadata": {},
   "outputs": [
    {
     "data": {
      "text/plain": [
       "array(['QA', 'Developer', 'Manager', nan, 'Analyst'], dtype=object)"
      ]
     },
     "execution_count": 11,
     "metadata": {},
     "output_type": "execute_result"
    }
   ],
   "source": [
    "#Data profiling\n",
    "sal_2018.Role.unique()"
   ]
  },
  {
   "cell_type": "code",
   "execution_count": 12,
   "metadata": {},
   "outputs": [
    {
     "data": {
      "text/plain": [
       "array(['0-5', '6-10', '11-15', nan, '>25', '16-20', '16-', '21-25'],\n",
       "      dtype=object)"
      ]
     },
     "execution_count": 12,
     "metadata": {},
     "output_type": "execute_result"
    }
   ],
   "source": [
    "#Data profiling\n",
    "sal_2020.Exp_Range.unique()"
   ]
  },
  {
   "cell_type": "code",
   "execution_count": 13,
   "metadata": {},
   "outputs": [
    {
     "data": {
      "text/plain": [
       "array(['11-15', '1-5', '6-10', '16-20', '20-25', '>25'], dtype=object)"
      ]
     },
     "execution_count": 13,
     "metadata": {},
     "output_type": "execute_result"
    }
   ],
   "source": [
    "#Data profiling\n",
    "sal_2019.Exp_Range.unique()"
   ]
  },
  {
   "cell_type": "code",
   "execution_count": 14,
   "metadata": {},
   "outputs": [
    {
     "data": {
      "text/plain": [
       "array(['11-15', '6-10', '0-5', '16-20', nan, '21-25', '>25'], dtype=object)"
      ]
     },
     "execution_count": 14,
     "metadata": {},
     "output_type": "execute_result"
    }
   ],
   "source": [
    "#Data profiling\n",
    "sal_2018.Exp_Range.unique()"
   ]
  },
  {
   "cell_type": "code",
   "execution_count": 25,
   "metadata": {},
   "outputs": [],
   "source": [
    "#Data Transformation\n",
    "\n",
    "sal_2020['Exp_Range'] = sal_2020['Exp_Range'].replace(['16-'],'16-20')\n",
    "sal_2020['Exp_Range'] = sal_2020['Exp_Range'].replace(['1-5'],'0-5')\n",
    "sal_2018['Gender'] = sal_2018['Gender'].replace(['M'],'Male')\n",
    "sal_2018['Gender'] = sal_2018['Gender'].replace(['F'],'Female')\n",
    "sal_2019['Role'] = sal_2019['Role'].replace(['Managaer'],'Manager')"
   ]
  },
  {
   "cell_type": "code",
   "execution_count": 16,
   "metadata": {},
   "outputs": [],
   "source": [
    "# Select variables of interest\n",
    "\n",
    "ss_2020 = sal_2020[['Age', 'Gender','City', 'Role', 'Language', 'Exp_Range', 'Annual_Salary',\n",
    "                   'Prior_Salary','Company_Size','Company_Type']]\n",
    "\n",
    "ss_2019 = sal_2019[['Age', 'Gender','City','Role', 'Language', 'Exp_Range', 'Annual_Salary',\n",
    "                   'Prior_Salary','Company_Size','Company_Type']]\n",
    "\n",
    "ss_2018 = sal_2018[['Age', 'Gender','City','Role', 'Language', 'Exp_Range', 'Annual_Salary',\n",
    "                   'Prior_Salary','Company_Size','Company_Type']]"
   ]
  },
  {
   "cell_type": "code",
   "execution_count": 17,
   "metadata": {},
   "outputs": [
    {
     "name": "stderr",
     "output_type": "stream",
     "text": [
      "/opt/anaconda3/lib/python3.7/site-packages/ipykernel_launcher.py:3: SettingWithCopyWarning: \n",
      "A value is trying to be set on a copy of a slice from a DataFrame.\n",
      "Try using .loc[row_indexer,col_indexer] = value instead\n",
      "\n",
      "See the caveats in the documentation: http://pandas.pydata.org/pandas-docs/stable/user_guide/indexing.html#returning-a-view-versus-a-copy\n",
      "  This is separate from the ipykernel package so we can avoid doing imports until\n",
      "/opt/anaconda3/lib/python3.7/site-packages/ipykernel_launcher.py:4: SettingWithCopyWarning: \n",
      "A value is trying to be set on a copy of a slice from a DataFrame.\n",
      "Try using .loc[row_indexer,col_indexer] = value instead\n",
      "\n",
      "See the caveats in the documentation: http://pandas.pydata.org/pandas-docs/stable/user_guide/indexing.html#returning-a-view-versus-a-copy\n",
      "  after removing the cwd from sys.path.\n",
      "/opt/anaconda3/lib/python3.7/site-packages/ipykernel_launcher.py:5: SettingWithCopyWarning: \n",
      "A value is trying to be set on a copy of a slice from a DataFrame.\n",
      "Try using .loc[row_indexer,col_indexer] = value instead\n",
      "\n",
      "See the caveats in the documentation: http://pandas.pydata.org/pandas-docs/stable/user_guide/indexing.html#returning-a-view-versus-a-copy\n",
      "  \"\"\"\n"
     ]
    }
   ],
   "source": [
    "# Add a variable year\n",
    "\n",
    "ss_2020['year']= '2020'\n",
    "ss_2019['year']= '2019'\n",
    "ss_2018['year']= '2018'"
   ]
  },
  {
   "cell_type": "code",
   "execution_count": 27,
   "metadata": {},
   "outputs": [
    {
     "data": {
      "text/plain": [
       "array(['0-5', '6-10', '11-15', nan, '>25', '16-20', '21-25'], dtype=object)"
      ]
     },
     "execution_count": 27,
     "metadata": {},
     "output_type": "execute_result"
    }
   ],
   "source": [
    "#Union the data frames\n",
    "Salary_Survey=pd.concat([ss_2018,ss_2019,ss_2020])\n",
    "Salary_Survey.head()"
   ]
  },
  {
   "cell_type": "code",
   "execution_count": 20,
   "metadata": {},
   "outputs": [
    {
     "data": {
      "image/png": "[encoded data removed]",
      "text/plain": [
       "<Figure size 360x360 with 1 Axes>"
      ]
     },
     "metadata": {
      "needs_background": "light"
     },
     "output_type": "display_data"
    }
   ],
   "source": [
    "# Plot the count of employees by Gender\n",
    "import seaborn as sns\n",
    "import matplotlib.pyplot as plt\n",
    "\n",
    "sns.catplot(x=\"Gender\", kind=\"count\", data=Salary_Survey)\n",
    "plt.show()"
   ]
  },
  {
   "cell_type": "code",
   "execution_count": 21,
   "metadata": {},
   "outputs": [
    {
     "name": "stderr",
     "output_type": "stream",
     "text": [
      "/opt/anaconda3/lib/python3.7/site-packages/seaborn/distributions.py:2619: FutureWarning: `distplot` is a deprecated function and will be removed in a future version. Please adapt your code to use either `displot` (a figure-level function with similar flexibility) or `histplot` (an axes-level function for histograms).\n",
      "  warnings.warn(msg, FutureWarning)\n"
     ]
    },
    {
     "data": {
      "image/png": "[encoded data removed]",
      "text/plain": [
       "<Figure size 432x288 with 1 Axes>"
      ]
     },
     "metadata": {
      "needs_background": "light"
     },
     "output_type": "display_data"
    }
   ],
   "source": [
    "\n",
    "# Plot the age distribution of the employees\n",
    "sns.distplot(Salary_Survey[\"Age\"], kde=\"TRUE\")\n",
    "plt.show()"
   ]
  },
  {
   "cell_type": "code",
   "execution_count": 44,
   "metadata": {},
   "outputs": [
    {
     "name": "stderr",
     "output_type": "stream",
     "text": [
      "/opt/anaconda3/lib/python3.7/site-packages/seaborn/distributions.py:2619: FutureWarning: `distplot` is a deprecated function and will be removed in a future version. Please adapt your code to use either `displot` (a figure-level function with similar flexibility) or `histplot` (an axes-level function for histograms).\n",
      "  warnings.warn(msg, FutureWarning)\n"
     ]
    },
    {
     "data": {
      "image/png": "[encoded data removed]",
      "text/plain": [
       "<Figure size 432x288 with 1 Axes>"
      ]
     },
     "metadata": {
      "needs_background": "light"
     },
     "output_type": "display_data"
    }
   ],
   "source": [
    "# Create a new variable salary represented in 1000s and plot the distribution\n",
    "\n",
    "Salary_Survey['Annual_Salary_inK']=(Salary_Survey['Annual_Salary']/1000)\n",
    "                                    \n",
    "sns.distplot(Salary_Survey[\"Annual_Salary_inK\"], kde=\"TRUE\", bins=10)\n",
    "plt.show()"
   ]
  },
  {
   "cell_type": "code",
   "execution_count": 28,
   "metadata": {},
   "outputs": [
    {
     "data": {
      "image/png": "[encoded data removed]",
      "text/plain": [
       "<Figure size 360x360 with 1 Axes>"
      ]
     },
     "metadata": {
      "needs_background": "light"
     },
     "output_type": "display_data"
    }
   ],
   "source": [
    "#Distribution of employees by experience range\n",
    "\n",
    "sns.catplot(x=\"Exp_Range\", kind=\"count\", data=Salary_Survey)\n",
    "plt.show()"
   ]
  },
  {
   "cell_type": "code",
   "execution_count": 29,
   "metadata": {},
   "outputs": [
    {
     "data": {
      "image/png": "[encoded data removed]",
      "text/plain": [
       "<Figure size 360x360 with 1 Axes>"
      ]
     },
     "metadata": {
      "needs_background": "light"
     },
     "output_type": "display_data"
    }
   ],
   "source": [
    "sns.catplot(y=\"Company_Size\", kind=\"count\", data=Salary_Survey)\n",
    "plt.show()"
   ]
  },
  {
   "cell_type": "code",
   "execution_count": 30,
   "metadata": {},
   "outputs": [
    {
     "data": {
      "text/html": [
       "<div>\n",
       "<style scoped>\n",
       "    .dataframe tbody tr th:only-of-type {\n",
       "        vertical-align: middle;\n",
       "    }\n",
       "\n",
       "    .dataframe tbody tr th {\n",
       "        vertical-align: top;\n",
       "    }\n",
       "\n",
       "    .dataframe thead th {\n",
       "        text-align: right;\n",
       "    }\n",
       "</style>\n",
       "<table border=\"1\" class=\"dataframe\">\n",
       "  <thead>\n",
       "    <tr style=\"text-align: right;\">\n",
       "      <th></th>\n",
       "      <th>Age</th>\n",
       "      <th>Annual_Salary</th>\n",
       "      <th>Prior_Salary</th>\n",
       "    </tr>\n",
       "  </thead>\n",
       "  <tbody>\n",
       "    <tr>\n",
       "      <td>count</td>\n",
       "      <td>2780.00000</td>\n",
       "      <td>2993.00000</td>\n",
       "      <td>2084.00000</td>\n",
       "    </tr>\n",
       "    <tr>\n",
       "      <td>mean</td>\n",
       "      <td>32.40108</td>\n",
       "      <td>33649436.44007</td>\n",
       "      <td>305317.16123</td>\n",
       "    </tr>\n",
       "    <tr>\n",
       "      <td>std</td>\n",
       "      <td>5.40693</td>\n",
       "      <td>1827894112.95914</td>\n",
       "      <td>10951296.03375</td>\n",
       "    </tr>\n",
       "    <tr>\n",
       "      <td>min</td>\n",
       "      <td>20.00000</td>\n",
       "      <td>6000.00000</td>\n",
       "      <td>0.00000</td>\n",
       "    </tr>\n",
       "    <tr>\n",
       "      <td>25%</td>\n",
       "      <td>29.00000</td>\n",
       "      <td>58000.00000</td>\n",
       "      <td>55000.00000</td>\n",
       "    </tr>\n",
       "    <tr>\n",
       "      <td>50%</td>\n",
       "      <td>32.00000</td>\n",
       "      <td>68000.00000</td>\n",
       "      <td>65000.00000</td>\n",
       "    </tr>\n",
       "    <tr>\n",
       "      <td>75%</td>\n",
       "      <td>35.00000</td>\n",
       "      <td>80000.00000</td>\n",
       "      <td>75000.00000</td>\n",
       "    </tr>\n",
       "    <tr>\n",
       "      <td>max</td>\n",
       "      <td>69.00000</td>\n",
       "      <td>99999999999.00000</td>\n",
       "      <td>500000000.00000</td>\n",
       "    </tr>\n",
       "  </tbody>\n",
       "</table>\n",
       "</div>"
      ],
      "text/plain": [
       "             Age     Annual_Salary    Prior_Salary\n",
       "count 2780.00000        2993.00000      2084.00000\n",
       "mean    32.40108    33649436.44007    305317.16123\n",
       "std      5.40693  1827894112.95914  10951296.03375\n",
       "min     20.00000        6000.00000         0.00000\n",
       "25%     29.00000       58000.00000     55000.00000\n",
       "50%     32.00000       68000.00000     65000.00000\n",
       "75%     35.00000       80000.00000     75000.00000\n",
       "max     69.00000 99999999999.00000 500000000.00000"
      ]
     },
     "execution_count": 30,
     "metadata": {},
     "output_type": "execute_result"
    }
   ],
   "source": [
    "#Summary statitics\n",
    "summary_stats=Salary_Survey[[\"Age\", \"Annual_Salary\", \"Prior_Salary\"]].describe()\n",
    "pd.options.display.float_format = '{:.5f}'.format\n",
    "summary_stats.round(5)"
   ]
  },
  {
   "cell_type": "code",
   "execution_count": 47,
   "metadata": {},
   "outputs": [
    {
     "data": {
      "image/png": "[encoded data removed]",
      "text/plain": [
       "<Figure size 360x360 with 1 Axes>"
      ]
     },
     "metadata": {
      "needs_background": "light"
     },
     "output_type": "display_data"
    },
    {
     "data": {
      "text/html": [
       "<div>\n",
       "<style scoped>\n",
       "    .dataframe tbody tr th:only-of-type {\n",
       "        vertical-align: middle;\n",
       "    }\n",
       "\n",
       "    .dataframe tbody tr th {\n",
       "        vertical-align: top;\n",
       "    }\n",
       "\n",
       "    .dataframe thead th {\n",
       "        text-align: right;\n",
       "    }\n",
       "</style>\n",
       "<table border=\"1\" class=\"dataframe\">\n",
       "  <thead>\n",
       "    <tr style=\"text-align: right;\">\n",
       "      <th></th>\n",
       "      <th>Annual_Salary</th>\n",
       "      <th>Frequency</th>\n",
       "      <th>Pmf</th>\n",
       "    </tr>\n",
       "  </thead>\n",
       "  <tbody>\n",
       "    <tr>\n",
       "      <td>12</td>\n",
       "      <td>100000.00000</td>\n",
       "      <td>43</td>\n",
       "      <td>0.01698</td>\n",
       "    </tr>\n",
       "    <tr>\n",
       "      <td>18</td>\n",
       "      <td>120000.00000</td>\n",
       "      <td>31</td>\n",
       "      <td>0.01224</td>\n",
       "    </tr>\n",
       "    <tr>\n",
       "      <td>23</td>\n",
       "      <td>110000.00000</td>\n",
       "      <td>24</td>\n",
       "      <td>0.00947</td>\n",
       "    </tr>\n",
       "    <tr>\n",
       "      <td>36</td>\n",
       "      <td>115000.00000</td>\n",
       "      <td>16</td>\n",
       "      <td>0.00632</td>\n",
       "    </tr>\n",
       "    <tr>\n",
       "      <td>37</td>\n",
       "      <td>130000.00000</td>\n",
       "      <td>16</td>\n",
       "      <td>0.00632</td>\n",
       "    </tr>\n",
       "  </tbody>\n",
       "</table>\n",
       "</div>"
      ],
      "text/plain": [
       "    Annual_Salary  Frequency     Pmf\n",
       "12   100000.00000         43 0.01698\n",
       "18   120000.00000         31 0.01224\n",
       "23   110000.00000         24 0.00947\n",
       "36   115000.00000         16 0.00632\n",
       "37   130000.00000         16 0.00632"
      ]
     },
     "execution_count": 47,
     "metadata": {},
     "output_type": "execute_result"
    }
   ],
   "source": [
    "#PMF for Annual_Salary for Male employees\n",
    "\n",
    "male_salary= Salary_Survey[(Salary_Survey.Gender==\"Male\")]\n",
    "pmf_ms=male_salary['Annual_Salary'].value_counts().reset_index()\n",
    "##freq_ms['Value_count'] = male_salary['Annual_Salary'].map(male_salary['Annual_Salary'].value_counts())\n",
    "##pmf_ms=freq_ms.rename(columns={1: \"Sal\", 2: \"Value_count\"})\n",
    "pmf_ms.columns=[\"Annual_Salary\",\"Frequency\"]\n",
    "pmf_ms.head()\n",
    "ml_len=male_salary.count()[1]\n",
    "pmf_ms['Pmf']=pmf_ms['Frequency']/ml_len\n",
    "Msal_Above100k=pmf_ms[pmf_ms.Annual_Salary>=100000]\n",
    "sns.catplot(x=\"Annual_Salary\",y=\"Pmf\", kind=\"bar\", data=Msal_Above100k)\n",
    "plt.show()\n",
    "Msal_Above100k.head()"
   ]
  },
  {
   "cell_type": "code",
   "execution_count": 48,
   "metadata": {},
   "outputs": [
    {
     "data": {
      "image/png": "[encoded data removed]",
      "text/plain": [
       "<Figure size 360x360 with 1 Axes>"
      ]
     },
     "metadata": {
      "needs_background": "light"
     },
     "output_type": "display_data"
    }
   ],
   "source": [
    "#PMF for Annual_Salary for Female employees\n",
    "\n",
    "female_salary= Salary_Survey[(Salary_Survey.Gender==\"Female\")]\n",
    "pmf_fs=female_salary['Annual_Salary'].value_counts().reset_index()\n",
    "##freq_ms['Value_count'] = female_salary['Annual_Salary'].map(female_salary['Annual_Salary'].value_counts())\n",
    "##pmf_fs=freq_fs.rename(columns={1: \"Sal\", 2: \"Value_count\"})\n",
    "pmf_fs.columns=[\"Annual_Salary\",\"Frequency\"]\n",
    "pmf_fs.head()\n",
    "fl_len=female_salary.count()[1]\n",
    "pmf_fs['Pmf']=pmf_fs['Frequency']/fl_len\n",
    "pmf_fs.head()\n",
    "Fsal_Above100k=pmf_fs[pmf_fs.Annual_Salary>=100000]\n",
    "sns.catplot(x=\"Annual_Salary\",y=\"Pmf\", kind=\"bar\", data=Fsal_Above100k)\n",
    "plt.show()\n"
   ]
  },
  {
   "cell_type": "code",
   "execution_count": 49,
   "metadata": {},
   "outputs": [
    {
     "data": {
      "image/png": "[encoded data removed]",
      "text/plain": [
       "<Figure size 360x360 with 1 Axes>"
      ]
     },
     "metadata": {
      "needs_background": "light"
     },
     "output_type": "display_data"
    }
   ],
   "source": [
    "#PMF of Role for Male employees\n",
    "\n",
    "male_role= Salary_Survey[(Salary_Survey.Gender==\"Male\")]\n",
    "pmf_ms=male_role['Role'].value_counts().reset_index()\n",
    "##freq_ms['Value_count'] = male_salary['Annual_Salary'].map(male_salary['Annual_Salary'].value_counts())\n",
    "##pmf_ms=freq_ms.rename(columns={1: \"Sal\", 2: \"Value_count\"})\n",
    "pmf_ms.columns=[\"Role\",\"Frequency\"]\n",
    "pmf_ms.head()\n",
    "ml_len=male_role.count()[1]\n",
    "pmf_ms['Pmf']=pmf_ms['Frequency']/ml_len\n",
    "##Msal_Above100k=pmf_ms[pmf_ms.Annual_Salary>=100]\n",
    "sns.catplot(x=\"Role\",y=\"Pmf\", kind=\"bar\", data=pmf_ms)\n",
    "\n",
    "plt.show()"
   ]
  },
  {
   "cell_type": "code",
   "execution_count": 50,
   "metadata": {},
   "outputs": [
    {
     "data": {
      "image/png": "[encoded data removed]",
      "text/plain": [
       "<Figure size 360x360 with 1 Axes>"
      ]
     },
     "metadata": {
      "needs_background": "light"
     },
     "output_type": "display_data"
    }
   ],
   "source": [
    "#PMF of Role for Female employees\n",
    "female_role= Salary_Survey[(Salary_Survey.Gender==\"Female\")]\n",
    "pmf_fs=female_role['Role'].value_counts().reset_index()\n",
    "##freq_ms['Value_count'] = female_salary['Annual_Salary'].map(female_salary['Annual_Salary'].value_counts())\n",
    "##pmf_fs=freq_fs.rename(columns={1: \"Sal\", 2: \"Value_count\"})\n",
    "pmf_fs.columns=[\"Role\",\"Frequency\"]\n",
    "pmf_fs.head()\n",
    "fl_len=female_role.count()[1]\n",
    "pmf_fs['Pmf']=pmf_fs['Frequency']/fl_len\n",
    "pmf_fs.head()\n",
    "##Fsal_Above100k=pmf_fs[pmf_fs.Annual_Salary>=100]\n",
    "sns.catplot(x=\"Role\",y=\"Pmf\", kind=\"bar\", data=pmf_fs)\n",
    "\n",
    "plt.show()"
   ]
  },
  {
   "cell_type": "code",
   "execution_count": 52,
   "metadata": {},
   "outputs": [
    {
     "data": {
      "image/png": "[encoded data removed]",
      "text/plain": [
       "<Figure size 432x288 with 1 Axes>"
      ]
     },
     "metadata": {
      "needs_background": "light"
     },
     "output_type": "display_data"
    }
   ],
   "source": [
    "##CDF plot for Male Employees\n",
    "\n",
    "import numpy as np\n",
    "import matplotlib.pyplot as plt\n",
    "from scipy.stats import norm\n",
    "import sys\n",
    "import pandas as pd\n",
    "\n",
    "x=male_salary[male_salary.Annual_Salary_inK != 850.00]\n",
    "#x=x[x.Annual_Salary_inK >= 100.00]\n",
    "ms=x['Annual_Salary_inK']\n",
    "ms_stats=pd.DataFrame(ms)\n",
    "ms_stats['cdf'] = ms_stats.rank(method = 'average', pct = True)\n",
    "y=female_salary[female_salary.Annual_Salary_inK != 500000.00]\n",
    "#y=x[x.Annual_Salary_inK >= 100.00]\n",
    "fs=y['Annual_Salary_inK']\n",
    "fs_stats=pd.DataFrame(fs)\n",
    "fs_stats['cdf'] = fs_stats.rank(method = 'average', pct = True)\n",
    "# Sort and plot\n",
    "ms_stats.sort_values('Annual_Salary_inK').plot(x = 'Annual_Salary_inK', y = 'cdf', grid = True)\n",
    "plt.show()"
   ]
  },
  {
   "cell_type": "code",
   "execution_count": 53,
   "metadata": {},
   "outputs": [
    {
     "data": {
      "text/plain": [
       "<matplotlib.axes._subplots.AxesSubplot at 0x7fb270b3c6d0>"
      ]
     },
     "execution_count": 53,
     "metadata": {},
     "output_type": "execute_result"
    },
    {
     "data": {
      "image/png": "[encoded data removed]",
      "text/plain": [
       "<Figure size 432x288 with 1 Axes>"
      ]
     },
     "metadata": {
      "needs_background": "light"
     },
     "output_type": "display_data"
    }
   ],
   "source": [
    "#CDF for female employees\n",
    "y=female_salary[female_salary.Annual_Salary_inK != 500000.00]\n",
    "#y=x[x.Annual_Salary_inK >= 100.00]\n",
    "fs=y['Annual_Salary_inK']\n",
    "fs_stats=pd.DataFrame(fs)\n",
    "fs_stats['cdf'] = fs_stats.rank(method = 'average', pct = True)\n",
    "# Sort and plot\n",
    "fs_stats.sort_values('Annual_Salary_inK').plot(x = 'Annual_Salary_inK', y = 'cdf', grid = True)\n"
   ]
  },
  {
   "cell_type": "code",
   "execution_count": 54,
   "metadata": {},
   "outputs": [
    {
     "data": {
      "text/plain": [
       "Text(0, 0.5, 'Salary')"
      ]
     },
     "execution_count": 54,
     "metadata": {},
     "output_type": "execute_result"
    },
    {
     "data": {
      "image/png": "[encoded data removed]",
      "text/plain": [
       "<Figure size 432x288 with 1 Axes>"
      ]
     },
     "metadata": {
      "needs_background": "light"
     },
     "output_type": "display_data"
    }
   ],
   "source": [
    "# Scatter plot between Age and Salary\n",
    "\n",
    "ss1=Salary_Survey[Salary_Survey.Annual_Salary_inK != 850.00]\n",
    "ss2=ss1[ss1.Annual_Salary_inK != 500000.00]\n",
    "ss3=ss2\n",
    "ss3=ss3.dropna()\n",
    "\n",
    "\n",
    "plt.scatter(ss2['Age'], ss2['Annual_Salary_inK'])\n",
    "plt.title('Employee Age Group & Salary')\n",
    "plt.xlabel('Age')\n",
    "plt.ylabel('Salary')"
   ]
  },
  {
   "cell_type": "code",
   "execution_count": 55,
   "metadata": {},
   "outputs": [
    {
     "data": {
      "text/plain": [
       "Text(0, 0.5, 'Salary')"
      ]
     },
     "execution_count": 55,
     "metadata": {},
     "output_type": "execute_result"
    },
    {
     "data": {
      "image/png": "[encoded data removed]",
      "text/plain": [
       "<Figure size 432x288 with 1 Axes>"
      ]
     },
     "metadata": {
      "needs_background": "light"
     },
     "output_type": "display_data"
    }
   ],
   "source": [
    "# Scatter plot for Exp_Rnge and Salary\n",
    "\n",
    "plt.scatter(ss3['Exp_Range'],ss3['Annual_Salary_inK'])\n",
    "plt.xlabel('Exp_Rng')\n",
    "plt.ylabel('Salary')\n",
    "\n"
   ]
  },
  {
   "cell_type": "code",
   "execution_count": 57,
   "metadata": {},
   "outputs": [
    {
     "name": "stderr",
     "output_type": "stream",
     "text": [
      "/opt/anaconda3/lib/python3.7/site-packages/ipykernel_launcher.py:4: SettingWithCopyWarning: \n",
      "A value is trying to be set on a copy of a slice from a DataFrame.\n",
      "Try using .loc[row_indexer,col_indexer] = value instead\n",
      "\n",
      "See the caveats in the documentation: http://pandas.pydata.org/pandas-docs/stable/user_guide/indexing.html#returning-a-view-versus-a-copy\n",
      "  after removing the cwd from sys.path.\n",
      "/opt/anaconda3/lib/python3.7/site-packages/ipykernel_launcher.py:7: SettingWithCopyWarning: \n",
      "A value is trying to be set on a copy of a slice from a DataFrame.\n",
      "Try using .loc[row_indexer,col_indexer] = value instead\n",
      "\n",
      "See the caveats in the documentation: http://pandas.pydata.org/pandas-docs/stable/user_guide/indexing.html#returning-a-view-versus-a-copy\n",
      "  import sys\n"
     ]
    },
    {
     "data": {
      "text/html": [
       "<div>\n",
       "<style scoped>\n",
       "    .dataframe tbody tr th:only-of-type {\n",
       "        vertical-align: middle;\n",
       "    }\n",
       "\n",
       "    .dataframe tbody tr th {\n",
       "        vertical-align: top;\n",
       "    }\n",
       "\n",
       "    .dataframe thead th {\n",
       "        text-align: right;\n",
       "    }\n",
       "</style>\n",
       "<table border=\"1\" class=\"dataframe\">\n",
       "  <thead>\n",
       "    <tr style=\"text-align: right;\">\n",
       "      <th></th>\n",
       "      <th>Gender_num</th>\n",
       "      <th>Annual_Salary_inK</th>\n",
       "    </tr>\n",
       "  </thead>\n",
       "  <tbody>\n",
       "    <tr>\n",
       "      <td>Gender_num</td>\n",
       "      <td>1.00000</td>\n",
       "      <td>0.19127</td>\n",
       "    </tr>\n",
       "    <tr>\n",
       "      <td>Annual_Salary_inK</td>\n",
       "      <td>0.19127</td>\n",
       "      <td>1.00000</td>\n",
       "    </tr>\n",
       "  </tbody>\n",
       "</table>\n",
       "</div>"
      ],
      "text/plain": [
       "                   Gender_num  Annual_Salary_inK\n",
       "Gender_num            1.00000            0.19127\n",
       "Annual_Salary_inK     0.19127            1.00000"
      ]
     },
     "execution_count": 57,
     "metadata": {},
     "output_type": "execute_result"
    }
   ],
   "source": [
    "##Correlation Between Gender and Salary - Point Biserial correlation  - Positive values indicate the presence of relationship\n",
    "\n",
    "pbc_salary=ss3\n",
    "pbc_salary['Gender_num']= np.where(pbc_salary['Gender'] == 'Male', '1', '0')\n",
    "pbc_salary.head()\n",
    "pbc_sal = pbc_salary[['Gender_num', 'Annual_Salary_inK']]\n",
    "pbc_sal['Gender_num']=pbc_sal['Gender_num'].astype(int)\n",
    "pbc_sal.head()\n",
    "pbc_sal.corr()"
   ]
  },
  {
   "cell_type": "code",
   "execution_count": 58,
   "metadata": {},
   "outputs": [
    {
     "name": "stdout",
     "output_type": "stream",
     "text": [
      "[[477.19611646  26.64363067]\n",
      " [ 26.64363067  27.47901757]]\n"
     ]
    }
   ],
   "source": [
    "## Correlation between Age and Salary - Positive values indicate the presence of relationship\n",
    "import numpy as np\n",
    "covariance=np.cov(ss3['Annual_Salary_inK'], ss3['Age'])\n",
    "print(covariance)"
   ]
  },
  {
   "cell_type": "code",
   "execution_count": 59,
   "metadata": {},
   "outputs": [
    {
     "name": "stdout",
     "output_type": "stream",
     "text": [
      "Pearsons correlation: 0.233\n"
     ]
    }
   ],
   "source": [
    "# Pearson correlation between Age and Salary\n",
    "from scipy.stats import pearsonr\n",
    "corr, _ = pearsonr(ss3['Annual_Salary_inK'], ss3['Age'])\n",
    "print('Pearsons correlation: %.3f' % corr)"
   ]
  },
  {
   "cell_type": "code",
   "execution_count": 56,
   "metadata": {},
   "outputs": [
    {
     "data": {
      "image/png": "[encoded data removed]",
      "text/plain": [
       "<Figure size 432x288 with 1 Axes>"
      ]
     },
     "metadata": {
      "needs_background": "light"
     },
     "output_type": "display_data"
    }
   ],
   "source": [
    "# Pareto distribution of salary data for male and female employees\n",
    "\n",
    "#from matplotlib.ticker import Percentformatter\n",
    "p1=ms_stats['Annual_Salary_inK']\n",
    "p2=fs_stats['Annual_Salary_inK']\n",
    "p1_pareto=pd.DataFrame(p1)\n",
    "p2_pareto=pd.DataFrame(p2)\n",
    "##p1=p1.sort_values('Annual_Salary_inK', ascending='False')\n",
    "##p1_sorted = p1_pareto.sort_values([\"Annual_Salary_inK\"], ascending=False)\n",
    "p1_sorted = p1_pareto.sort_values([\"Annual_Salary_inK\"], ascending=True)\n",
    "p2_sorted = p2_pareto.sort_values([\"Annual_Salary_inK\"], ascending=True)\n",
    "p1_sorted[\"cumpercentage\"]=p1_sorted[\"Annual_Salary_inK\"].cumsum()/p1_sorted[\"Annual_Salary_inK\"].sum()*100\n",
    "p2_sorted[\"cumpercentage\"]=p2_sorted[\"Annual_Salary_inK\"].cumsum()/p2_sorted[\"Annual_Salary_inK\"].sum()*100\n",
    "#p1_asorted[\"cumpercentage\"]=p1_asorted[\"Annual_Salary_inK\"].cumsum()/p1_asorted[\"Annual_Salary_inK\"].sum()*100\n",
    "plt.plot(p1_sorted['Annual_Salary_inK'], p1_sorted[\"cumpercentage\"])\n",
    "plt.plot(p2_sorted['Annual_Salary_inK'], p2_sorted[\"cumpercentage\"])\n",
    "#plt.plot(p1_sorted['Annual_Salary_inK'], p1_asorted[\"cumpercentage\"])\n",
    "plt.show()"
   ]
  },
  {
   "cell_type": "code",
   "execution_count": 60,
   "metadata": {},
   "outputs": [
    {
     "data": {
      "text/html": [
       "<div>\n",
       "<style scoped>\n",
       "    .dataframe tbody tr th:only-of-type {\n",
       "        vertical-align: middle;\n",
       "    }\n",
       "\n",
       "    .dataframe tbody tr th {\n",
       "        vertical-align: top;\n",
       "    }\n",
       "\n",
       "    .dataframe thead tr th {\n",
       "        text-align: left;\n",
       "    }\n",
       "\n",
       "    .dataframe thead tr:last-of-type th {\n",
       "        text-align: right;\n",
       "    }\n",
       "</style>\n",
       "<table border=\"1\" class=\"dataframe\">\n",
       "  <thead>\n",
       "    <tr>\n",
       "      <th></th>\n",
       "      <th colspan=\"8\" halign=\"left\">Annual_Salary_inK</th>\n",
       "    </tr>\n",
       "    <tr>\n",
       "      <th></th>\n",
       "      <th>count</th>\n",
       "      <th>mean</th>\n",
       "      <th>std</th>\n",
       "      <th>min</th>\n",
       "      <th>25%</th>\n",
       "      <th>50%</th>\n",
       "      <th>75%</th>\n",
       "      <th>max</th>\n",
       "    </tr>\n",
       "    <tr>\n",
       "      <th>Gender</th>\n",
       "      <th></th>\n",
       "      <th></th>\n",
       "      <th></th>\n",
       "      <th></th>\n",
       "      <th></th>\n",
       "      <th></th>\n",
       "      <th></th>\n",
       "      <th></th>\n",
       "    </tr>\n",
       "  </thead>\n",
       "  <tbody>\n",
       "    <tr>\n",
       "      <td>Female</td>\n",
       "      <td>264.00000</td>\n",
       "      <td>61.47715</td>\n",
       "      <td>18.91746</td>\n",
       "      <td>12.00000</td>\n",
       "      <td>50.00000</td>\n",
       "      <td>60.00000</td>\n",
       "      <td>68.00000</td>\n",
       "      <td>200.00000</td>\n",
       "    </tr>\n",
       "    <tr>\n",
       "      <td>Male</td>\n",
       "      <td>1626.00000</td>\n",
       "      <td>73.87871</td>\n",
       "      <td>21.70161</td>\n",
       "      <td>14.00000</td>\n",
       "      <td>62.00000</td>\n",
       "      <td>71.62500</td>\n",
       "      <td>82.00000</td>\n",
       "      <td>250.00000</td>\n",
       "    </tr>\n",
       "  </tbody>\n",
       "</table>\n",
       "</div>"
      ],
      "text/plain": [
       "       Annual_Salary_inK                                               \\\n",
       "                   count     mean      std      min      25%      50%   \n",
       "Gender                                                                  \n",
       "Female         264.00000 61.47715 18.91746 12.00000 50.00000 60.00000   \n",
       "Male          1626.00000 73.87871 21.70161 14.00000 62.00000 71.62500   \n",
       "\n",
       "                           \n",
       "            75%       max  \n",
       "Gender                     \n",
       "Female 68.00000 200.00000  \n",
       "Male   82.00000 250.00000  "
      ]
     },
     "execution_count": 60,
     "metadata": {},
     "output_type": "execute_result"
    }
   ],
   "source": [
    "##T-Test on hypothesis that Gender Pay gap exists in IT industry\n",
    "\n",
    "tt_data=ss3[[\"Annual_Salary_inK\",\"Gender\"]]\n",
    "tt_data=tt_data[tt_data.Gender != 'Diverse']\n",
    "\n",
    "tt_data.groupby('Gender').describe()"
   ]
  },
  {
   "cell_type": "code",
   "execution_count": 61,
   "metadata": {},
   "outputs": [
    {
     "data": {
      "text/plain": [
       "(0.8906139731407166, 1.8211040601583075e-32)"
      ]
     },
     "execution_count": 61,
     "metadata": {},
     "output_type": "execute_result"
    }
   ],
   "source": [
    "## Validating the assumption of Normaility\n",
    "from scipy.stats import shapiro\n",
    "\n",
    "Male = tt_data.query('Gender == \"Male\"')['Annual_Salary_inK']\n",
    "Female = tt_data.query('Gender == \"Female\"')['Annual_Salary_inK']\n",
    "shapiro(Male)"
   ]
  },
  {
   "cell_type": "code",
   "execution_count": 62,
   "metadata": {},
   "outputs": [
    {
     "data": {
      "text/plain": [
       "(0.8340311646461487, 3.9997917502840688e-16)"
      ]
     },
     "execution_count": 62,
     "metadata": {},
     "output_type": "execute_result"
    }
   ],
   "source": [
    "shapiro(Female)"
   ]
  },
  {
   "cell_type": "code",
   "execution_count": 63,
   "metadata": {},
   "outputs": [
    {
     "data": {
      "text/plain": [
       "LeveneResult(statistic=5.146387144375454, pvalue=0.02340726016639203)"
      ]
     },
     "execution_count": 63,
     "metadata": {},
     "output_type": "execute_result"
    }
   ],
   "source": [
    "#Validating the homogenity of variances assumption\n",
    "from scipy.stats import levene\n",
    "levene(Male, Female)"
   ]
  },
  {
   "cell_type": "code",
   "execution_count": 64,
   "metadata": {},
   "outputs": [
    {
     "data": {
      "text/plain": [
       "Ttest_indResult(statistic=8.759985992836686, pvalue=4.255770985606472e-18)"
      ]
     },
     "metadata": {},
     "output_type": "display_data"
    }
   ],
   "source": [
    "#T-Test \n",
    "\n",
    "import scipy.stats as stats\n",
    "\n",
    "#res = pg.ttest(Male, Female, correction=False)\n",
    "#display(res)\n",
    "pd.options.display.float_format = '{:.10f}'.format\n",
    "res = stats.ttest_ind(Male, Female, \n",
    "                      equal_var=True)\n",
    "\n",
    "display(res)\n",
    "#Smaller P value indicates Null hypothesis is not true, but alternatie hypothesis is true"
   ]
  },
  {
   "cell_type": "code",
   "execution_count": 65,
   "metadata": {},
   "outputs": [
    {
     "name": "stdout",
     "output_type": "stream",
     "text": [
      "                  Age     Annual_Salary      Prior_Salary\n",
      "count 1891.0000000000   1891.0000000000   1891.0000000000\n",
      "mean    32.8646218932  72192.3553675304  65439.5499735590\n",
      "std      5.2420432628  21844.8189844426  26054.6389756679\n",
      "min     21.0000000000  12000.0000000000      0.0000000000\n",
      "25%     29.0000000000  60000.0000000000  55000.0000000000\n",
      "50%     32.0000000000  70000.0000000000  65000.0000000000\n",
      "75%     36.0000000000  80000.0000000000  75000.0000000000\n",
      "max     66.0000000000 250000.0000000000 760000.0000000000\n"
     ]
    }
   ],
   "source": [
    "ss3.head()\n",
    "ss_stats=ss3[[\"Age\", \"Annual_Salary\", \"Prior_Salary\"]].describe()\n",
    "print(ss_stats)"
   ]
  },
  {
   "cell_type": "code",
   "execution_count": 66,
   "metadata": {},
   "outputs": [
    {
     "data": {
      "text/html": [
       "<table class=\"simpletable\">\n",
       "<caption>OLS Regression Results</caption>\n",
       "<tr>\n",
       "  <th>Dep. Variable:</th>    <td>Annual_Salary_inK</td> <th>  R-squared:         </th> <td>   0.088</td> \n",
       "</tr>\n",
       "<tr>\n",
       "  <th>Model:</th>                   <td>OLS</td>        <th>  Adj. R-squared:    </th> <td>   0.085</td> \n",
       "</tr>\n",
       "<tr>\n",
       "  <th>Method:</th>             <td>Least Squares</td>   <th>  F-statistic:       </th> <td>   26.02</td> \n",
       "</tr>\n",
       "<tr>\n",
       "  <th>Date:</th>             <td>Fri, 19 Nov 2021</td>  <th>  Prob (F-statistic):</th> <td>3.40e-34</td> \n",
       "</tr>\n",
       "<tr>\n",
       "  <th>Time:</th>                 <td>18:57:52</td>      <th>  Log-Likelihood:    </th> <td> -8427.2</td> \n",
       "</tr>\n",
       "<tr>\n",
       "  <th>No. Observations:</th>      <td>  1891</td>       <th>  AIC:               </th> <td>1.687e+04</td>\n",
       "</tr>\n",
       "<tr>\n",
       "  <th>Df Residuals:</th>          <td>  1883</td>       <th>  BIC:               </th> <td>1.691e+04</td>\n",
       "</tr>\n",
       "<tr>\n",
       "  <th>Df Model:</th>              <td>     7</td>       <th>                     </th>     <td> </td>    \n",
       "</tr>\n",
       "<tr>\n",
       "  <th>Covariance Type:</th>      <td>nonrobust</td>     <th>                     </th>     <td> </td>    \n",
       "</tr>\n",
       "</table>\n",
       "<table class=\"simpletable\">\n",
       "<tr>\n",
       "           <td></td>             <th>coef</th>     <th>std err</th>      <th>t</th>      <th>P>|t|</th>  <th>[0.025</th>    <th>0.975]</th>  \n",
       "</tr>\n",
       "<tr>\n",
       "  <th>Intercept</th>          <td>   68.0602</td> <td>    0.747</td> <td>   91.074</td> <td> 0.000</td> <td>   66.595</td> <td>   69.526</td>\n",
       "</tr>\n",
       "<tr>\n",
       "  <th>Exp_Range[T.1-5]</th>   <td>   -8.7129</td> <td>    1.890</td> <td>   -4.611</td> <td> 0.000</td> <td>  -12.419</td> <td>   -5.007</td>\n",
       "</tr>\n",
       "<tr>\n",
       "  <th>Exp_Range[T.11-15]</th> <td>    9.4342</td> <td>    1.492</td> <td>    6.324</td> <td> 0.000</td> <td>    6.509</td> <td>   12.360</td>\n",
       "</tr>\n",
       "<tr>\n",
       "  <th>Exp_Range[T.16-20]</th> <td>   19.7557</td> <td>    2.281</td> <td>    8.660</td> <td> 0.000</td> <td>   15.282</td> <td>   24.230</td>\n",
       "</tr>\n",
       "<tr>\n",
       "  <th>Exp_Range[T.20-25]</th> <td>   23.3842</td> <td>    7.006</td> <td>    3.338</td> <td> 0.001</td> <td>    9.644</td> <td>   37.124</td>\n",
       "</tr>\n",
       "<tr>\n",
       "  <th>Exp_Range[T.21-25]</th> <td>   22.6898</td> <td>   10.476</td> <td>    2.166</td> <td> 0.030</td> <td>    2.145</td> <td>   43.235</td>\n",
       "</tr>\n",
       "<tr>\n",
       "  <th>Exp_Range[T.6-10]</th>  <td>    7.5765</td> <td>    1.140</td> <td>    6.645</td> <td> 0.000</td> <td>    5.340</td> <td>    9.813</td>\n",
       "</tr>\n",
       "<tr>\n",
       "  <th>Exp_Range[T.>25]</th>   <td>   -2.5602</td> <td>    8.564</td> <td>   -0.299</td> <td> 0.765</td> <td>  -19.356</td> <td>   14.236</td>\n",
       "</tr>\n",
       "</table>\n",
       "<table class=\"simpletable\">\n",
       "<tr>\n",
       "  <th>Omnibus:</th>       <td>779.100</td> <th>  Durbin-Watson:     </th> <td>   2.002</td>\n",
       "</tr>\n",
       "<tr>\n",
       "  <th>Prob(Omnibus):</th> <td> 0.000</td>  <th>  Jarque-Bera (JB):  </th> <td>6252.755</td>\n",
       "</tr>\n",
       "<tr>\n",
       "  <th>Skew:</th>          <td> 1.730</td>  <th>  Prob(JB):          </th> <td>    0.00</td>\n",
       "</tr>\n",
       "<tr>\n",
       "  <th>Kurtosis:</th>      <td>11.209</td>  <th>  Cond. No.          </th> <td>    23.3</td>\n",
       "</tr>\n",
       "</table><br/><br/>Warnings:<br/>[1] Standard Errors assume that the covariance matrix of the errors is correctly specified."
      ],
      "text/plain": [
       "<class 'statsmodels.iolib.summary.Summary'>\n",
       "\"\"\"\n",
       "                            OLS Regression Results                            \n",
       "==============================================================================\n",
       "Dep. Variable:      Annual_Salary_inK   R-squared:                       0.088\n",
       "Model:                            OLS   Adj. R-squared:                  0.085\n",
       "Method:                 Least Squares   F-statistic:                     26.02\n",
       "Date:                Fri, 19 Nov 2021   Prob (F-statistic):           3.40e-34\n",
       "Time:                        18:57:52   Log-Likelihood:                -8427.2\n",
       "No. Observations:                1891   AIC:                         1.687e+04\n",
       "Df Residuals:                    1883   BIC:                         1.691e+04\n",
       "Df Model:                           7                                         \n",
       "Covariance Type:            nonrobust                                         \n",
       "======================================================================================\n",
       "                         coef    std err          t      P>|t|      [0.025      0.975]\n",
       "--------------------------------------------------------------------------------------\n",
       "Intercept             68.0602      0.747     91.074      0.000      66.595      69.526\n",
       "Exp_Range[T.1-5]      -8.7129      1.890     -4.611      0.000     -12.419      -5.007\n",
       "Exp_Range[T.11-15]     9.4342      1.492      6.324      0.000       6.509      12.360\n",
       "Exp_Range[T.16-20]    19.7557      2.281      8.660      0.000      15.282      24.230\n",
       "Exp_Range[T.20-25]    23.3842      7.006      3.338      0.001       9.644      37.124\n",
       "Exp_Range[T.21-25]    22.6898     10.476      2.166      0.030       2.145      43.235\n",
       "Exp_Range[T.6-10]      7.5765      1.140      6.645      0.000       5.340       9.813\n",
       "Exp_Range[T.>25]      -2.5602      8.564     -0.299      0.765     -19.356      14.236\n",
       "==============================================================================\n",
       "Omnibus:                      779.100   Durbin-Watson:                   2.002\n",
       "Prob(Omnibus):                  0.000   Jarque-Bera (JB):             6252.755\n",
       "Skew:                           1.730   Prob(JB):                         0.00\n",
       "Kurtosis:                      11.209   Cond. No.                         23.3\n",
       "==============================================================================\n",
       "\n",
       "Warnings:\n",
       "[1] Standard Errors assume that the covariance matrix of the errors is correctly specified.\n",
       "\"\"\""
      ]
     },
     "execution_count": 66,
     "metadata": {},
     "output_type": "execute_result"
    }
   ],
   "source": [
    "\n",
    "#Regression Analysis\n",
    "import statsmodels.formula.api as sm \n",
    "from statsmodels.formula.api import ols\n",
    "Reg_Sal=ss3\n",
    "Reg_Sal.head()\n",
    "Reg_d=pd.get_dummies(Reg_Sal['Gender']) ## Convert the Gender values to 0 and 1 for Female and Male\n",
    "Reg_d=pd.concat([Reg_Sal,Reg_d],axis=1)\n",
    "Reg_d.drop(['Gender', 'Diverse','Gender_num','Male'], inplace=True, axis=1) ## Keep one field female; \n",
    "#Female = 0 indicates a male employee, female = 1 indicates female employee\n",
    "\n",
    "# Simple Regression with Exp_Range as the predictor\n",
    "Reg_d.head()\n",
    "reg=ols(\"Annual_Salary_inK ~ Exp_Range\", Reg_d).fit()\n",
    "reg.summary()"
   ]
  },
  {
   "cell_type": "code",
   "execution_count": 67,
   "metadata": {},
   "outputs": [
    {
     "name": "stdout",
     "output_type": "stream",
     "text": [
      "                            OLS Regression Results                            \n",
      "==============================================================================\n",
      "Dep. Variable:      Annual_Salary_inK   R-squared:                       0.113\n",
      "Model:                            OLS   Adj. R-squared:                  0.109\n",
      "Method:                 Least Squares   F-statistic:                     29.94\n",
      "Date:                Fri, 19 Nov 2021   Prob (F-statistic):           2.27e-44\n",
      "Time:                        18:58:58   Log-Likelihood:                -8401.2\n",
      "No. Observations:                1891   AIC:                         1.682e+04\n",
      "Df Residuals:                    1882   BIC:                         1.687e+04\n",
      "Df Model:                           8                                         \n",
      "Covariance Type:            nonrobust                                         \n",
      "======================================================================================\n",
      "                         coef    std err          t      P>|t|      [0.025      0.975]\n",
      "--------------------------------------------------------------------------------------\n",
      "Intercept             69.7500      0.773     90.187      0.000      68.233      71.267\n",
      "Exp_Range[T.1-5]      -7.7792      1.869     -4.163      0.000     -11.444      -4.114\n",
      "Exp_Range[T.11-15]     8.6233      1.476      5.842      0.000       5.728      11.518\n",
      "Exp_Range[T.16-20]    18.7050      2.255      8.293      0.000      14.281      23.128\n",
      "Exp_Range[T.20-25]    21.6945      6.916      3.137      0.002       8.130      35.259\n",
      "Exp_Range[T.21-25]    21.0000     10.338      2.031      0.042       0.725      41.276\n",
      "Exp_Range[T.6-10]      6.9745      1.128      6.183      0.000       4.762       9.187\n",
      "Exp_Range[T.>25]      -2.5816      8.450     -0.306      0.760     -19.153      13.990\n",
      "Female               -10.0105      1.383     -7.238      0.000     -12.723      -7.298\n",
      "==============================================================================\n",
      "Omnibus:                      804.630   Durbin-Watson:                   2.002\n",
      "Prob(Omnibus):                  0.000   Jarque-Bera (JB):             6909.986\n",
      "Skew:                           1.776   Prob(JB):                         0.00\n",
      "Kurtosis:                      11.665   Cond. No.                         23.5\n",
      "==============================================================================\n",
      "\n",
      "Warnings:\n",
      "[1] Standard Errors assume that the covariance matrix of the errors is correctly specified.\n"
     ]
    }
   ],
   "source": [
    "# Multiple Linear Regression with Exp_Range and Gender\n",
    "\n",
    "Reg_d['Female']=Reg_d['Female'].astype(int)\n",
    "f1 = 'Annual_Salary_inK ~ Exp_Range+Female'\n",
    "reg2 = sm.ols(formula = f1, data = Reg_d)\n",
    "result = reg2.fit()\n",
    "print(result.summary())"
   ]
  },
  {
   "cell_type": "code",
   "execution_count": null,
   "metadata": {},
   "outputs": [],
   "source": []
  }
 ],
 "metadata": {
  "kernelspec": {
   "display_name": "Python 3",
   "language": "python",
   "name": "python3"
  },
  "language_info": {
   "codemirror_mode": {
    "name": "ipython",
    "version": 3
   },
   "file_extension": ".py",
   "mimetype": "text/x-python",
   "name": "python",
   "nbconvert_exporter": "python",
   "pygments_lexer": "ipython3",
   "version": "3.7.4"
  }
 },
 "nbformat": 4,
 "nbformat_minor": 4
}
